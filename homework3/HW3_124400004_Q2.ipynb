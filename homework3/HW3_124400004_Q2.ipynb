{
 "cells": [
  {
   "cell_type": "markdown",
   "metadata": {},
   "source": [
    "## Programming 2.2\n",
    "### K-Means, Mixture Models and EM Algorithms (25 points)\n",
    "\n",
    "**Datasets:**\n",
    "- `abalone` - from UCI Repository: [Abalone Dataset](https://archive.ics.uci.edu/dataset/1/abalone)\n",
    "\n",
    "**Task:**\n",
    "- Predict the age of abalones using KNN and GMM.\n",
    "\n",
    "**Reference:**\n",
    "- [Learn by Example: Expectation Maximization](https://www.kaggle.com/code/charel/learn-by-example-expectation-maximization/notebook)\n",
    "\n",
    "**Note:**\n",
    "- Please follow the instructions below and implement tasks.\n",
    "- Ensure that your code is executable. Otherwise, points for the respective question will be deducted."
   ]
  },
  {
   "cell_type": "code",
   "execution_count": null,
   "metadata": {
    "vscode": {
     "languageId": "plaintext"
    }
   },
   "outputs": [],
   "source": []
  }
 ],
 "metadata": {
  "language_info": {
   "name": "python"
  }
 },
 "nbformat": 4,
 "nbformat_minor": 2
}
