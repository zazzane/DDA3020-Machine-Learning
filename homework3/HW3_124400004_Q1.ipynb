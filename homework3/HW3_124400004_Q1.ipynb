{
 "cells": [
  {
   "cell_type": "markdown",
   "metadata": {},
   "source": [
    "## Programming 2.1\n",
    "### PCA Coding (25 points)\n",
    "\n",
    "**Task Description:**\n",
    "- You are asked to project data in the iris dataset into smaller subspaces, using PCA. It should be implemented from scratch in Python. Only numpy is allowed for calculation (Dataset loading and figure plotting are free to use other packages).\n",
    "\n",
    "**Datasets:**\n",
    "- `iris`- is exactly the one you have played with in SVM programming homework."
   ]
  }
 ],
 "metadata": {
  "language_info": {
   "name": "python"
  }
 },
 "nbformat": 4,
 "nbformat_minor": 2
}
