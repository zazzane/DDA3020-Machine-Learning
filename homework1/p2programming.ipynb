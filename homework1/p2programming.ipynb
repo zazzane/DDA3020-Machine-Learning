{
 "cells": [
  {
   "cell_type": "markdown",
   "metadata": {},
   "source": [
    "## 2 Programming (50 points)\n",
    "\n",
    "### 2.1. (Linear regression, 25 points)\n",
    "\n",
    "We have a labeled dataset $ D $ = $ {(x_1, y_1) , (x_2, y_2), \\ldots, (x_n, y_n) }$ , with $ x_i \\in \\mathbb{R}^d $ being the $ d $-dimensional feature vector of the $ i $-th sample, and $ y_i \\in \\mathbb{R} $ being the real-valued target (label).\n",
    "\n",
    "A linear regression model is given by\n",
    "\n",
    "$$\n",
    "f_{w_0, w_1, \\ldots, w_d}(x) = w_0 + w_1 x_1 + w_2 x_2 + \\cdots + w_d x_d,\n",
    "$$\n",
    "\n",
    "where $ w_0 $ is often called bias and $ w_1, w_2, \\ldots, w_d $ are often called coefficients.\n",
    "\n",
    "Now, we want to utilize the dataset $ D $ to build a linear model based on linear regression. We provide a training set $ D_{\\text{train}} $ that includes 2024 labeled samples with 11 features (See `linear_regression.train.txt`) to fit the model, and a test set $ D_{\\text{test}} $ that includes 10 unlabeled samples with 11 features (see `linear_regression.test.txt`) to estimate the model.\n",
    "\n",
    "1. Using the `LinearRegression` class from the Sklearn package to get the bias $ w_0 $ and the coefficients $ w_1, w_2, \\ldots, w_{11} $, then computing the $ \\hat{y} = f(x) $ of the test set $ D_{\\text{test}} $ by the model trained well. (Put the estimation of $ w_0, w_1, \\ldots, w_{11} $ and these $ \\hat{y} $ in your answers.)\n",
    "\n",
    "2. Implementing the linear regression by yourself to obtain the bias $ w_0 $ and the coefficients $ w_1, w_2, \\ldots, w_{11} $, then computing the $ \\hat{y} = f(x) $ of the test set $ D_{\\text{test}} $. (Put the estimation of $ w_0, w_1, \\ldots, w_{11} $ and these $ \\hat{y} $ in your answers. It is allowed to compute the inverse of a matrix using the existing Python package.)\n"
   ]
  },
  {
   "cell_type": "markdown",
   "metadata": {},
   "source": [
    "> **Hint:** Note that for `linear_regression_train.txt`, there are 2024 rows with 12 columns where the first 11 columns are features $ x $ and the last column is target $ y $. The `linear_regression_test.txt` only contains 10 rows with 11 columns (features). Both of these tasks require the submission of code and results. Put all the code in a “HW1_yourID_Q1.ipynb” Jupyter notebook file. (A “.py” file is also acceptable.)\n"
   ]
  }
 ],
 "metadata": {
  "language_info": {
   "name": "python"
  }
 },
 "nbformat": 4,
 "nbformat_minor": 2
}
