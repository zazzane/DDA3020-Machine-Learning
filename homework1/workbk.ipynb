{
 "cells": [
  {
   "cell_type": "markdown",
   "metadata": {},
   "source": [
    "### For part 1, question 2"
   ]
  },
  {
   "cell_type": "code",
   "execution_count": 1,
   "metadata": {},
   "outputs": [
    {
     "name": "stdout",
     "output_type": "stream",
     "text": [
      "     pcost       dcost       gap    pres   dres\n",
      " 0: -2.6873e-01 -6.7301e-01  4e+00  2e+00  1e+00\n",
      " 1: -1.4232e-01 -5.9278e-01  5e-01  3e-16  6e-16\n",
      " 2: -2.3773e-01 -2.7513e-01  4e-02  6e-17  5e-16\n",
      " 3: -2.4959e-01 -2.5037e-01  8e-04  6e-17  4e-16\n",
      " 4: -2.5000e-01 -2.5000e-01  8e-06  6e-17  2e-16\n",
      " 5: -2.5000e-01 -2.5000e-01  8e-08  3e-17  3e-16\n",
      "Optimal solution found.\n",
      "Optimal alpha values: [2.49999916e-01 8.17639192e-08 2.49999998e-01]\n"
     ]
    }
   ],
   "source": [
    "import numpy as np\n",
    "from cvxopt import matrix, solvers\n",
    "\n",
    "# Data points\n",
    "X = np.array([[3, 3], [4, 3], [1, 1]])\n",
    "y = np.array([1, 1, -1])\n",
    "\n",
    "# Number of data points\n",
    "n = X.shape[0]\n",
    "\n",
    "# Compute the Gram matrix (K)\n",
    "K = np.dot(X, X.T) * np.outer(y, y)\n",
    "\n",
    "# Define the quadratic programming problem\n",
    "P = matrix(K, tc='d')\n",
    "q = matrix(-np.ones(n), tc='d')\n",
    "\n",
    "# Non-negativity constraints (alpha_i >= 0)\n",
    "G = matrix(-np.eye(n), tc='d')\n",
    "h = matrix(np.zeros(n), tc='d')\n",
    "\n",
    "# Equality constraints (sum(alpha_i * y_i) = 0)\n",
    "A = matrix(y, (1, n), tc='d')\n",
    "b = matrix(0.0, tc='d')\n",
    "\n",
    "# Solve the quadratic programming problem\n",
    "sol = solvers.qp(P, q, G, h, A, b)\n",
    "\n",
    "# Extract the solution (alpha values)\n",
    "alphas = np.array(sol['x']).flatten()\n",
    "\n",
    "print(\"Optimal alpha values:\", alphas)"
   ]
  }
 ],
 "metadata": {
  "kernelspec": {
   "display_name": ".venv",
   "language": "python",
   "name": "python3"
  },
  "language_info": {
   "codemirror_mode": {
    "name": "ipython",
    "version": 3
   },
   "file_extension": ".py",
   "mimetype": "text/x-python",
   "name": "python",
   "nbconvert_exporter": "python",
   "pygments_lexer": "ipython3",
   "version": "3.11.4"
  }
 },
 "nbformat": 4,
 "nbformat_minor": 2
}
