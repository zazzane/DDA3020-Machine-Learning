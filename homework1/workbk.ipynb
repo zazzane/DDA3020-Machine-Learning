{
 "cells": [
  {
   "cell_type": "markdown",
   "metadata": {},
   "source": [
    "### For part 1, question 2"
   ]
  },
  {
   "cell_type": "code",
   "execution_count": 2,
   "metadata": {},
   "outputs": [],
   "source": [
    "import numpy as np\n"
   ]
  },
  {
   "cell_type": "code",
   "execution_count": 1,
   "metadata": {},
   "outputs": [
    {
     "name": "stdout",
     "output_type": "stream",
     "text": [
      "     pcost       dcost       gap    pres   dres\n",
      " 0: -2.6873e-01 -6.7301e-01  4e+00  2e+00  1e+00\n",
      " 1: -1.4232e-01 -5.9278e-01  5e-01  3e-16  6e-16\n",
      " 2: -2.3773e-01 -2.7513e-01  4e-02  6e-17  5e-16\n",
      " 3: -2.4959e-01 -2.5037e-01  8e-04  6e-17  4e-16\n",
      " 4: -2.5000e-01 -2.5000e-01  8e-06  6e-17  2e-16\n",
      " 5: -2.5000e-01 -2.5000e-01  8e-08  3e-17  3e-16\n",
      "Optimal solution found.\n",
      "Optimal alpha values: [2.49999916e-01 8.17639192e-08 2.49999998e-01]\n"
     ]
    }
   ],
   "source": [
    "from cvxopt import matrix, solvers\n",
    "\n",
    "# Data points\n",
    "X = np.array([[3, 3], [4, 3], [1, 1]])\n",
    "y = np.array([1, 1, -1])\n",
    "\n",
    "# Number of data points\n",
    "n = X.shape[0]\n",
    "\n",
    "# Compute the Gram matrix (K)\n",
    "K = np.dot(X, X.T) * np.outer(y, y)\n",
    "\n",
    "# Define the quadratic programming problem\n",
    "P = matrix(K, tc='d')\n",
    "q = matrix(-np.ones(n), tc='d')\n",
    "\n",
    "# Non-negativity constraints (alpha_i >= 0)\n",
    "G = matrix(-np.eye(n), tc='d')\n",
    "h = matrix(np.zeros(n), tc='d')\n",
    "\n",
    "# Equality constraints (sum(alpha_i * y_i) = 0)\n",
    "A = matrix(y, (1, n), tc='d')\n",
    "b = matrix(0.0, tc='d')\n",
    "\n",
    "# Solve the quadratic programming problem\n",
    "sol = solvers.qp(P, q, G, h, A, b)\n",
    "\n",
    "# Extract the solution (alpha values)\n",
    "alphas = np.array(sol['x']).flatten()\n",
    "\n",
    "print(\"Optimal alpha values:\", alphas)"
   ]
  },
  {
   "cell_type": "code",
   "execution_count": 3,
   "metadata": {},
   "outputs": [
    {
     "name": "stdout",
     "output_type": "stream",
     "text": [
      "[[-2.   1. ]\n",
      " [ 1.5 -0.5]]\n"
     ]
    }
   ],
   "source": [
    "# given a basis matrix A_b find the inverse of A_b\n",
    "def inverse(A_b):\n",
    "    n = A_b.shape[0]\n",
    "    I = np.eye(n)\n",
    "    A_inv = np.zeros((n, n))\n",
    "    for i in range(n):\n",
    "        b = I[:, i]\n",
    "        x = np.linalg.solve(A_b, b)\n",
    "        A_inv[:, i] = x\n",
    "    return A_inv\n",
    "\n",
    "# test the inverse function\n",
    "A = np.array([[1, 2], [3, 4]])\n",
    "A_inv = inverse(A)\n",
    "print(A_inv)\n"
   ]
  },
  {
   "cell_type": "code",
   "execution_count": 8,
   "metadata": {},
   "outputs": [
    {
     "name": "stdout",
     "output_type": "stream",
     "text": [
      "Optimal solution: [0.         0.85714286 1.42857143 2.28571429]\n",
      "Optimal objective value: 0.0\n"
     ]
    },
    {
     "name": "stderr",
     "output_type": "stream",
     "text": [
      "C:\\Users\\Z4N3R\\AppData\\Local\\Temp\\ipykernel_32100\\1646530446.py:23: DeprecationWarning: `method='simplex'` is deprecated and will be removed in SciPy 1.11.0. Please use one of the HiGHS solvers (e.g. `method='highs'`) in new code.\n",
      "  res_phase1 = linprog(c_aug, A_eq=A_aug, b_eq=b, method=\"simplex\")\n"
     ]
    }
   ],
   "source": [
    "from scipy.optimize import linprog\n",
    "from scipy.linalg import solve\n",
    "\n",
    "def two_phase_simplex(c, A, b):\n",
    "    \"\"\"\n",
    "    Solves a linear programming problem using the two-phase simplex method.\n",
    "\n",
    "    Args:\n",
    "        c: The objective function coefficients.\n",
    "        A: The constraint matrix.\n",
    "        b: The right-hand side of the constraints.\n",
    "\n",
    "    Returns:\n",
    "        The optimal solution and objective function value.\n",
    "    \"\"\"\n",
    "\n",
    "    # Introduce auxiliary variables\n",
    "    m, n = A.shape\n",
    "    A_aug = np.hstack((A, np.eye(m)))\n",
    "    c_aug = np.hstack((np.zeros(n), np.ones(m)))  # Extend c with ones for auxiliary variables\n",
    "\n",
    "    # Solve the auxiliary problem\n",
    "    res_phase1 = linprog(c_aug, A_eq=A_aug, b_eq=b, method=\"simplex\")\n",
    "\n",
    "    # Check if the original problem is feasible\n",
    "    if res_phase1.status != 0:\n",
    "        return None, np.inf\n",
    "\n",
    "    # Phase II: Remove auxiliary variables\n",
    "    B = res_phase1.x.argsort()[-m:][::-1]  # Basic variables\n",
    "    N = list(set(range(n + m)) - set(B))  # Non-basic variables\n",
    "    A_B = A_aug[:, B]\n",
    "    A_N = A_aug[:, N]\n",
    "    c_B = c_aug[B]\n",
    "    c_N = c_aug[N]\n",
    "\n",
    "    # Calculate initial tableau\n",
    "    y = solve(A_B, b)\n",
    "    z = c_B.dot(y)\n",
    "    A_B_inv = np.linalg.inv(A_B)\n",
    "    reduced_costs = c_N - c_B.dot(A_B_inv.dot(A_N))\n",
    "\n",
    "    # Simplex iterations\n",
    "    while any(reduced_costs < 0):\n",
    "        # Find entering variable\n",
    "        j = np.argmin(reduced_costs)\n",
    "        d_N_j = np.zeros(n + m)\n",
    "        d_N_j[j] = 1\n",
    "        d_B_j = -A_B_inv.dot(A_N[:, j])\n",
    "\n",
    "        # Find leaving variable\n",
    "        theta = np.inf\n",
    "        for i in range(m):\n",
    "            if d_B_j[i] > 0:\n",
    "                theta = min(theta, y[i] / d_B_j[i])\n",
    "        if theta == np.inf:\n",
    "            return None, np.inf  # Unbounded problem\n",
    "        l = np.argmin(y[d_B_j > 0] / d_B_j[d_B_j > 0])\n",
    "\n",
    "        # Update basis\n",
    "        B[l] = N[j]\n",
    "        N[j] = B[l]\n",
    "\n",
    "        # Update tableau\n",
    "        A_B = A_aug[:, B]\n",
    "        A_N = A_aug[:, N]\n",
    "        A_B_inv = np.linalg.inv(A_B)\n",
    "        y = solve(A_B, b)\n",
    "        z = c_B.dot(y)\n",
    "        reduced_costs = c_N - c_B.dot(A_B_inv.dot(A_N))\n",
    "\n",
    "    # Optimal solution\n",
    "    x = np.zeros(n)\n",
    "    x[B] = y\n",
    "    return x[:n], z\n",
    "\n",
    "# Example usage\n",
    "c = np.array([1, 2, 3, 4])\n",
    "A = np.array([[1, -1, 2, 0], [0, 1, -1, 2], [2, 0, 3, -1]])\n",
    "b = np.array([2, 4, 2])\n",
    "\n",
    "x, z = two_phase_simplex(c, A, b)\n",
    "print(\"Optimal solution:\", x)\n",
    "print(\"Optimal objective value:\", z)"
   ]
  }
 ],
 "metadata": {
  "kernelspec": {
   "display_name": ".venv",
   "language": "python",
   "name": "python3"
  },
  "language_info": {
   "codemirror_mode": {
    "name": "ipython",
    "version": 3
   },
   "file_extension": ".py",
   "mimetype": "text/x-python",
   "name": "python",
   "nbconvert_exporter": "python",
   "pygments_lexer": "ipython3",
   "version": "3.11.4"
  }
 },
 "nbformat": 4,
 "nbformat_minor": 2
}
